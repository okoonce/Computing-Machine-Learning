{
  "cells": [
    {
      "cell_type": "raw",
      "metadata": {},
      "source": [
        "---\n",
        "title: Practice Activity 2.2 (colleges)\n",
        "author: Owen Koonce\n",
        "format:\n",
        "    html:\n",
        "        toc: true\n",
        "theme: flatly\n",
        "---"
      ]
    },
    {
      "cell_type": "markdown",
      "metadata": {
        "id": "r9YPMJZueiQ_"
      },
      "source": [
        "## Intro\n",
        "\n",
        "In this PA, you will practice altering data frame objects in order to solve a riddle.\n",
        "\n",
        "### Advice for troubleshooting your code\n",
        "\n",
        "#### Check results often\n",
        "\n",
        "If a chunk of code runs smoothly without giving you any error or warnings this does not necessarily mean it accomplished the desired task.\n",
        "\n",
        "It is a good habit to check the results of your code every time you finish a task.\n",
        "\n",
        "If you created or updated a data frame, make sure your edits did what you hoped.  Use the *Environment* or the `head()` function to investigate your changes.\n",
        "\n",
        "#### Document your work\n",
        "\n",
        "In the text before the code chunk, make sure to briefly state what the point of the chunk is.  This will remind later readers - which might be your future self! - what the desired output is.\n",
        "\n",
        "Use comments in the code to give quick explanations of the goals of complex steps.\n",
        "\n",
        "#### Two heads are better than one\n",
        "\n",
        "It can be hard to spot bugs in code that you yourself wrote.t\n",
        "(Have you ever sent a text message and not spotted an obvious  typo?  Same idea!)\n",
        "\n",
        "Work with people around you if you can - if something goes wrong, ask a friend to take a peek at your code and see if any glaring errors (like *syntax error*) pop out.\n",
        "\n",
        "#### Explain your code out loud\n",
        "\n",
        "The best way to troubleshoot a sneaky bug is to explain out loud each step of your code, and what you hoped to accomplish.\n",
        "\n",
        "If you are alone, try [Rubber Duck Debugging](https://en.wikipedia.org/wiki/Rubber_duck_debugging)!\n",
        "\n",
        "#### Google is your friend\n",
        "\n",
        "The whole of the internet is at your disposal!  Use it early, use it often.\n",
        "\n",
        "Copy-paste the exact error message into Google. Chances are, somebody else had a similar problem and got a similar message.\n",
        "\n",
        "\n",
        "Include package names in your search terms.  For example, \"bar plot in plotnine with pandas data frame\" is a better search than \"bar plot in python\".\n",
        "\n",
        "\n",
        "## Part One: Data import and cleaning\n",
        "\n",
        "This section will walk you through some steps to clean up today's dataset, so that you can use it more easily in Part Two.  \n",
        "\n",
        "First, we declare our package dependencies and load the data.\n",
        "\n",
        "(Note that the data loading function `read_csv` will give you an outpouring of helpful information about the dataset.  If you do not see the word \"error\", there is nothing to be concerned about.)\n"
      ]
    },
    {
      "cell_type": "code",
      "execution_count": null,
      "metadata": {
        "id": "9asR0S4_eiRA",
        "vscode": {
          "languageId": "python"
        }
      },
      "outputs": [],
      "source": [
        "import numpy as np\n",
        "import pandas as pd\n",
        "\n",
        "colleges = pd.read_csv(\"https://www.dropbox.com/s/bt5hvctdevhbq6j/colleges.csv?dl=1\")\n"
      ]
    },
    {
      "cell_type": "markdown",
      "metadata": {
        "id": "ZdYqoIsieiRB"
      },
      "source": [
        "The code chunks in this section will cause an error and/or do the desired task incorrectly.  (Even the chunks that run without error are not correct!) You will need to find the mistake, and correct it, to complete the intended action.\n",
        "\n",
        "None of the *text* is incorrect, only the *code* - your goal is to make the code do exactly what the documentation claims it will.\n",
        "\n",
        "#### 1. Narrow down the columns to variables of interest\n",
        "\n",
        "There are too many variables in this dataset.  We don't need all of them. We will limit our dataset down to only:\n",
        "\n",
        "Name of the institution\n",
        "City, State, and ZIP code of the institution\n",
        "The Admissions Rate\n",
        "The average SAT score\n",
        "The number of undergraduate students\n",
        "The in and out of state tuitions\n",
        "Whether the school is public or private\n",
        "The \"REGION\" variable.\n"
      ]
    },
    {
      "cell_type": "code",
      "execution_count": null,
      "metadata": {
        "id": "1QZE0D5TeiRC",
        "vscode": {
          "languageId": "python"
        }
      },
      "outputs": [],
      "source": [
        "# This is norrowing the df to eliminate unwanted columns\n",
        "colleges_clean = colleges[['INSTNM', 'CITY', 'STABBR', 'ZIP', 'CONTROL', 'ADM_RATE', 'SAT_AVG', 'TUITIONFEE_IN', 'TUITIONFEE_OUT', 'UGDS', 'REGION']]"
      ]
    },
    {
      "cell_type": "markdown",
      "metadata": {
        "id": "p-0lfoOleiRC"
      },
      "source": [
        "#### 2. Remove observations that aren't needed\n",
        "\n",
        "Drop the schools that are \"private for-profit\" (category 3).  We will not need these for the puzzle.\n"
      ]
    },
    {
      "cell_type": "code",
      "execution_count": null,
      "metadata": {
        "id": "E7Xx6YsKeiRC",
        "vscode": {
          "languageId": "python"
        }
      },
      "outputs": [],
      "source": [
        "# creating new object that eliminates rows from df where CONTROl isn't 1 or 2\n",
        "colleges_clean = colleges_clean[(colleges_clean['CONTROL'] == 1) | (colleges_clean['CONTROL'] == 2)]"
      ]
    },
    {
      "cell_type": "markdown",
      "metadata": {
        "id": "NEM5H8nYeiRC"
      },
      "source": [
        "### 3. Adjust variable types: Numeric\n",
        "\n",
        "Some of the columns of the dataset were automatically understood by the computer to be categorical, due to missing data appearing like strings.\n",
        "\n",
        "Adjust the appropriate columns to be numeric.\n"
      ]
    },
    {
      "cell_type": "code",
      "execution_count": null,
      "metadata": {
        "id": "cIOpSHCjeiRC",
        "vscode": {
          "languageId": "python"
        }
      },
      "outputs": [],
      "source": [
        "# changing values from str to float\n",
        "colleges_clean['TUITIONFEE_IN'] = colleges_clean['TUITIONFEE_IN'].astype(float)\n",
        "\n",
        "colleges_clean['TUITIONFEE_OUT'] = colleges_clean['TUITIONFEE_OUT'].astype(float)\n",
        "\n",
        "colleges_clean['SAT_AVG'] = colleges_clean['SAT_AVG'].astype(float)\n",
        "\n",
        "colleges_clean['ADM_RATE'] = colleges_clean['ADM_RATE'].astype(float)"
      ]
    },
    {
      "cell_type": "markdown",
      "metadata": {
        "id": "zKH6226NeiRC"
      },
      "source": [
        "### 4. Adjust variable types: Categorical\n",
        "\n",
        "Similarly, columns of the dataset that are not numbers are automatically understood by the computer to be strings.\n",
        "\n",
        "We know, however, that some variables are truly *categorical*, in that there are only a few categories (or \"levels\") that can be values of the column.\n",
        "\n",
        "Adjust the appropriate columns to be understood as categorical.\n"
      ]
    },
    {
      "cell_type": "code",
      "execution_count": null,
      "metadata": {
        "id": "TFBmCHMLeiRD",
        "vscode": {
          "languageId": "python"
        }
      },
      "outputs": [],
      "source": [
        "# changing CONTROl and REGION columns to categorical\n",
        "colleges_clean['CONTROL'] = colleges_clean['CONTROL'].astype('category')\n",
        "colleges_clean['REGION'] = colleges_clean['REGION'].astype('category')"
      ]
    },
    {
      "cell_type": "markdown",
      "metadata": {
        "id": "ra03-sWbeiRD"
      },
      "source": [
        "#### 5. Calculate new variables\n",
        "\n",
        "Create a new variable called TUITION_DIFF which contains the difference between in and out of state costs.\n"
      ]
    },
    {
      "cell_type": "code",
      "execution_count": null,
      "metadata": {
        "id": "i3gRwBgbeiRD",
        "vscode": {
          "languageId": "python"
        }
      },
      "outputs": [],
      "source": [
        "# new variable calculates difference between in and out of state tuition\n",
        "colleges_clean['TUITION_DIFF'] = colleges_clean['TUITIONFEE_OUT'] - colleges_clean['TUITIONFEE_IN']"
      ]
    },
    {
      "cell_type": "markdown",
      "metadata": {
        "id": "aBNvuTWCeiRD"
      },
      "source": [
        "#### 6. Deal with missing data\n",
        "\n",
        "Drop all the rows with missing data.\n",
        "\n",
        "(It is often a terrible idea to simply drop all rows with *any* missing data!  Usually, even if *some* of the information is missing, we don't want to throw out the entire row.  In this example, however, we'll be lazy.)\n"
      ]
    },
    {
      "cell_type": "code",
      "execution_count": 36,
      "metadata": {
        "id": "520ghDYBeiRD",
        "vscode": {
          "languageId": "python"
        }
      },
      "outputs": [],
      "source": [
        "#drop all rows that having missing data\n",
        "colleges_clean = colleges_clean.dropna()"
      ]
    },
    {
      "cell_type": "markdown",
      "metadata": {
        "id": "HviEJnpPeiRD"
      },
      "source": [
        "## Part Two:  Identify the mystery college\n",
        "\n",
        "Wow!  Your best friend Ephelia has been accepted to the college of her dreams!  Unfortunately, Ephelia is a very mysterious person, and she won't tell you directly which college this is.  You'll have to use her clues to figure out which school is her dream school.\n",
        "\n",
        "Clues:\n",
        "\n",
        "1. This college is located in Region 1.\n",
        "\n",
        "2. This college's admission rate is in the first quartile for the region.\n",
        "\n",
        "3. This college charges the same for in- and out-of-state tuition.\n",
        "\n",
        "4. The average SAT score of this college is an odd number.\n",
        "\n",
        "5. This college is NOT in New Hampshire or in the city of Boston.\n",
        "\n",
        "6. More than 3,000 people apply to this college every year.  (Hint: Make a new variable to compute how many people apply.  Assume the size of an incoming class is 1/4 of the total undergraduate population, and remember that not everyone who *applies* is *admitted*.)\n",
        "\n",
        "7. Ephelia is not going to an Ivy League school.\n",
        "\n",
        "8. Of the two options remaining at this step, Ephelia will attend the cheaper one.\n"
      ]
    },
    {
      "cell_type": "code",
      "execution_count": null,
      "metadata": {
        "id": "sISvMTN3BMHD",
        "vscode": {
          "languageId": "python"
        }
      },
      "outputs": [],
      "source": [
        "# for #1 of part 2, eliminates rows where REGION does not equal 1\n",
        "colleges_clean = colleges_clean[(colleges_clean['REGION'] == 1)]"
      ]
    },
    {
      "cell_type": "code",
      "execution_count": null,
      "metadata": {
        "id": "9j0OpTIyCLb4",
        "vscode": {
          "languageId": "python"
        }
      },
      "outputs": [],
      "source": [
        "# number 6 part 2 - creates new column that calculates number of applicants\n",
        "colleges_clean['APPLICANTS'] = (colleges_clean['UGDS'] / 4) / colleges_clean['ADM_RATE']"
      ]
    },
    {
      "cell_type": "code",
      "execution_count": 44,
      "metadata": {
        "colab": {
          "base_uri": "https://localhost:8080/",
          "height": 215
        },
        "id": "u721QdoY_4_J",
        "outputId": "d5789e5a-b351-4b6d-ae1f-e0512abaf95f",
        "vscode": {
          "languageId": "python"
        }
      },
      "outputs": [
        {
          "data": {
            "application/vnd.google.colaboratory.intrinsic+json": {
              "summary": "{\n  \"name\": \"               ]\",\n  \"rows\": 3,\n  \"fields\": [\n    {\n      \"column\": \"INSTNM\",\n      \"properties\": {\n        \"dtype\": \"string\",\n        \"num_unique_values\": 3,\n        \"samples\": [\n          \"Amherst College\",\n          \"Harvard University\",\n          \"Williams College\"\n        ],\n        \"semantic_type\": \"\",\n        \"description\": \"\"\n      }\n    },\n    {\n      \"column\": \"CITY\",\n      \"properties\": {\n        \"dtype\": \"string\",\n        \"num_unique_values\": 3,\n        \"samples\": [\n          \"Amherst\",\n          \"Cambridge\",\n          \"Williamstown\"\n        ],\n        \"semantic_type\": \"\",\n        \"description\": \"\"\n      }\n    },\n    {\n      \"column\": \"STABBR\",\n      \"properties\": {\n        \"dtype\": \"category\",\n        \"num_unique_values\": 1,\n        \"samples\": [\n          \"MA\"\n        ],\n        \"semantic_type\": \"\",\n        \"description\": \"\"\n      }\n    },\n    {\n      \"column\": \"ZIP\",\n      \"properties\": {\n        \"dtype\": \"string\",\n        \"num_unique_values\": 3,\n        \"samples\": [\n          \"01002-5000\"\n        ],\n        \"semantic_type\": \"\",\n        \"description\": \"\"\n      }\n    },\n    {\n      \"column\": \"CONTROL\",\n      \"properties\": {\n        \"dtype\": \"category\",\n        \"num_unique_values\": 1,\n        \"samples\": [\n          2\n        ],\n        \"semantic_type\": \"\",\n        \"description\": \"\"\n      }\n    },\n    {\n      \"column\": \"ADM_RATE\",\n      \"properties\": {\n        \"dtype\": \"number\",\n        \"std\": 0.05024380558835089,\n        \"min\": 0.0516,\n        \"max\": 0.1458,\n        \"num_unique_values\": 3,\n        \"samples\": [\n          0.129\n        ],\n        \"semantic_type\": \"\",\n        \"description\": \"\"\n      }\n    },\n    {\n      \"column\": \"SAT_AVG\",\n      \"properties\": {\n        \"dtype\": \"number\",\n        \"std\": 16.289055630494158,\n        \"min\": 1493.0,\n        \"max\": 1523.0,\n        \"num_unique_values\": 3,\n        \"samples\": [\n          1497.0\n        ],\n        \"semantic_type\": \"\",\n        \"description\": \"\"\n      }\n    },\n    {\n      \"column\": \"TUITIONFEE_IN\",\n      \"properties\": {\n        \"dtype\": \"number\",\n        \"std\": 2900.7792631176426,\n        \"min\": 48949.0,\n        \"max\": 54310.0,\n        \"num_unique_values\": 3,\n        \"samples\": [\n          54310.0\n        ],\n        \"semantic_type\": \"\",\n        \"description\": \"\"\n      }\n    },\n    {\n      \"column\": \"TUITIONFEE_OUT\",\n      \"properties\": {\n        \"dtype\": \"number\",\n        \"std\": 2900.7792631176426,\n        \"min\": 48949.0,\n        \"max\": 54310.0,\n        \"num_unique_values\": 3,\n        \"samples\": [\n          54310.0\n        ],\n        \"semantic_type\": \"\",\n        \"description\": \"\"\n      }\n    },\n    {\n      \"column\": \"UGDS\",\n      \"properties\": {\n        \"dtype\": \"number\",\n        \"std\": 3233.5226920496475,\n        \"min\": 1835.0,\n        \"max\": 7532.0,\n        \"num_unique_values\": 3,\n        \"samples\": [\n          1835.0\n        ],\n        \"semantic_type\": \"\",\n        \"description\": \"\"\n      }\n    },\n    {\n      \"column\": \"REGION\",\n      \"properties\": {\n        \"dtype\": \"category\",\n        \"num_unique_values\": 1,\n        \"samples\": [\n          1\n        ],\n        \"semantic_type\": \"\",\n        \"description\": \"\"\n      }\n    },\n    {\n      \"column\": \"TUITION_DIFF\",\n      \"properties\": {\n        \"dtype\": \"number\",\n        \"std\": 0.0,\n        \"min\": 0.0,\n        \"max\": 0.0,\n        \"num_unique_values\": 1,\n        \"samples\": [\n          0.0\n        ],\n        \"semantic_type\": \"\",\n        \"description\": \"\"\n      }\n    },\n    {\n      \"column\": \"APPLICANTS\",\n      \"properties\": {\n        \"dtype\": \"number\",\n        \"std\": 19035.95060221563,\n        \"min\": 3485.9396433470506,\n        \"max\": 36492.248062015504,\n        \"num_unique_values\": 3,\n        \"samples\": [\n          3556.201550387597\n        ],\n        \"semantic_type\": \"\",\n        \"description\": \"\"\n      }\n    }\n  ]\n}",
              "type": "dataframe"
            },
            "text/html": [
              "\n",
              "  <div id=\"df-5c265adf-a2f4-4b23-93fc-d5669affdb49\" class=\"colab-df-container\">\n",
              "    <div>\n",
              "<style scoped>\n",
              "    .dataframe tbody tr th:only-of-type {\n",
              "        vertical-align: middle;\n",
              "    }\n",
              "\n",
              "    .dataframe tbody tr th {\n",
              "        vertical-align: top;\n",
              "    }\n",
              "\n",
              "    .dataframe thead th {\n",
              "        text-align: right;\n",
              "    }\n",
              "</style>\n",
              "<table border=\"1\" class=\"dataframe\">\n",
              "  <thead>\n",
              "    <tr style=\"text-align: right;\">\n",
              "      <th></th>\n",
              "      <th>INSTNM</th>\n",
              "      <th>CITY</th>\n",
              "      <th>STABBR</th>\n",
              "      <th>ZIP</th>\n",
              "      <th>CONTROL</th>\n",
              "      <th>ADM_RATE</th>\n",
              "      <th>SAT_AVG</th>\n",
              "      <th>TUITIONFEE_IN</th>\n",
              "      <th>TUITIONFEE_OUT</th>\n",
              "      <th>UGDS</th>\n",
              "      <th>REGION</th>\n",
              "      <th>TUITION_DIFF</th>\n",
              "      <th>APPLICANTS</th>\n",
              "    </tr>\n",
              "  </thead>\n",
              "  <tbody>\n",
              "    <tr>\n",
              "      <th>1500</th>\n",
              "      <td>Amherst College</td>\n",
              "      <td>Amherst</td>\n",
              "      <td>MA</td>\n",
              "      <td>01002-5000</td>\n",
              "      <td>2</td>\n",
              "      <td>0.1290</td>\n",
              "      <td>1497.0</td>\n",
              "      <td>54310.0</td>\n",
              "      <td>54310.0</td>\n",
              "      <td>1835.0</td>\n",
              "      <td>1</td>\n",
              "      <td>0.0</td>\n",
              "      <td>3556.201550</td>\n",
              "    </tr>\n",
              "    <tr>\n",
              "      <th>1549</th>\n",
              "      <td>Harvard University</td>\n",
              "      <td>Cambridge</td>\n",
              "      <td>MA</td>\n",
              "      <td>2138</td>\n",
              "      <td>2</td>\n",
              "      <td>0.0516</td>\n",
              "      <td>1523.0</td>\n",
              "      <td>48949.0</td>\n",
              "      <td>48949.0</td>\n",
              "      <td>7532.0</td>\n",
              "      <td>1</td>\n",
              "      <td>0.0</td>\n",
              "      <td>36492.248062</td>\n",
              "    </tr>\n",
              "    <tr>\n",
              "      <th>1619</th>\n",
              "      <td>Williams College</td>\n",
              "      <td>Williamstown</td>\n",
              "      <td>MA</td>\n",
              "      <td>1267</td>\n",
              "      <td>2</td>\n",
              "      <td>0.1458</td>\n",
              "      <td>1493.0</td>\n",
              "      <td>53550.0</td>\n",
              "      <td>53550.0</td>\n",
              "      <td>2033.0</td>\n",
              "      <td>1</td>\n",
              "      <td>0.0</td>\n",
              "      <td>3485.939643</td>\n",
              "    </tr>\n",
              "  </tbody>\n",
              "</table>\n",
              "</div>\n",
              "    <div class=\"colab-df-buttons\">\n",
              "\n",
              "  <div class=\"colab-df-container\">\n",
              "    <button class=\"colab-df-convert\" onclick=\"convertToInteractive('df-5c265adf-a2f4-4b23-93fc-d5669affdb49')\"\n",
              "            title=\"Convert this dataframe to an interactive table.\"\n",
              "            style=\"display:none;\">\n",
              "\n",
              "  <svg xmlns=\"http://www.w3.org/2000/svg\" height=\"24px\" viewBox=\"0 -960 960 960\">\n",
              "    <path d=\"M120-120v-720h720v720H120Zm60-500h600v-160H180v160Zm220 220h160v-160H400v160Zm0 220h160v-160H400v160ZM180-400h160v-160H180v160Zm440 0h160v-160H620v160ZM180-180h160v-160H180v160Zm440 0h160v-160H620v160Z\"/>\n",
              "  </svg>\n",
              "    </button>\n",
              "\n",
              "  <style>\n",
              "    .colab-df-container {\n",
              "      display:flex;\n",
              "      gap: 12px;\n",
              "    }\n",
              "\n",
              "    .colab-df-convert {\n",
              "      background-color: #E8F0FE;\n",
              "      border: none;\n",
              "      border-radius: 50%;\n",
              "      cursor: pointer;\n",
              "      display: none;\n",
              "      fill: #1967D2;\n",
              "      height: 32px;\n",
              "      padding: 0 0 0 0;\n",
              "      width: 32px;\n",
              "    }\n",
              "\n",
              "    .colab-df-convert:hover {\n",
              "      background-color: #E2EBFA;\n",
              "      box-shadow: 0px 1px 2px rgba(60, 64, 67, 0.3), 0px 1px 3px 1px rgba(60, 64, 67, 0.15);\n",
              "      fill: #174EA6;\n",
              "    }\n",
              "\n",
              "    .colab-df-buttons div {\n",
              "      margin-bottom: 4px;\n",
              "    }\n",
              "\n",
              "    [theme=dark] .colab-df-convert {\n",
              "      background-color: #3B4455;\n",
              "      fill: #D2E3FC;\n",
              "    }\n",
              "\n",
              "    [theme=dark] .colab-df-convert:hover {\n",
              "      background-color: #434B5C;\n",
              "      box-shadow: 0px 1px 3px 1px rgba(0, 0, 0, 0.15);\n",
              "      filter: drop-shadow(0px 1px 2px rgba(0, 0, 0, 0.3));\n",
              "      fill: #FFFFFF;\n",
              "    }\n",
              "  </style>\n",
              "\n",
              "    <script>\n",
              "      const buttonEl =\n",
              "        document.querySelector('#df-5c265adf-a2f4-4b23-93fc-d5669affdb49 button.colab-df-convert');\n",
              "      buttonEl.style.display =\n",
              "        google.colab.kernel.accessAllowed ? 'block' : 'none';\n",
              "\n",
              "      async function convertToInteractive(key) {\n",
              "        const element = document.querySelector('#df-5c265adf-a2f4-4b23-93fc-d5669affdb49');\n",
              "        const dataTable =\n",
              "          await google.colab.kernel.invokeFunction('convertToInteractive',\n",
              "                                                    [key], {});\n",
              "        if (!dataTable) return;\n",
              "\n",
              "        const docLinkHtml = 'Like what you see? Visit the ' +\n",
              "          '<a target=\"_blank\" href=https://colab.research.google.com/notebooks/data_table.ipynb>data table notebook</a>'\n",
              "          + ' to learn more about interactive tables.';\n",
              "        element.innerHTML = '';\n",
              "        dataTable['output_type'] = 'display_data';\n",
              "        await google.colab.output.renderOutput(dataTable, element);\n",
              "        const docLink = document.createElement('div');\n",
              "        docLink.innerHTML = docLinkHtml;\n",
              "        element.appendChild(docLink);\n",
              "      }\n",
              "    </script>\n",
              "  </div>\n",
              "\n",
              "\n",
              "<div id=\"df-a95bfb2d-e333-4aa9-8b2d-ae77d3645337\">\n",
              "  <button class=\"colab-df-quickchart\" onclick=\"quickchart('df-a95bfb2d-e333-4aa9-8b2d-ae77d3645337')\"\n",
              "            title=\"Suggest charts\"\n",
              "            style=\"display:none;\">\n",
              "\n",
              "<svg xmlns=\"http://www.w3.org/2000/svg\" height=\"24px\"viewBox=\"0 0 24 24\"\n",
              "     width=\"24px\">\n",
              "    <g>\n",
              "        <path d=\"M19 3H5c-1.1 0-2 .9-2 2v14c0 1.1.9 2 2 2h14c1.1 0 2-.9 2-2V5c0-1.1-.9-2-2-2zM9 17H7v-7h2v7zm4 0h-2V7h2v10zm4 0h-2v-4h2v4z\"/>\n",
              "    </g>\n",
              "</svg>\n",
              "  </button>\n",
              "\n",
              "<style>\n",
              "  .colab-df-quickchart {\n",
              "      --bg-color: #E8F0FE;\n",
              "      --fill-color: #1967D2;\n",
              "      --hover-bg-color: #E2EBFA;\n",
              "      --hover-fill-color: #174EA6;\n",
              "      --disabled-fill-color: #AAA;\n",
              "      --disabled-bg-color: #DDD;\n",
              "  }\n",
              "\n",
              "  [theme=dark] .colab-df-quickchart {\n",
              "      --bg-color: #3B4455;\n",
              "      --fill-color: #D2E3FC;\n",
              "      --hover-bg-color: #434B5C;\n",
              "      --hover-fill-color: #FFFFFF;\n",
              "      --disabled-bg-color: #3B4455;\n",
              "      --disabled-fill-color: #666;\n",
              "  }\n",
              "\n",
              "  .colab-df-quickchart {\n",
              "    background-color: var(--bg-color);\n",
              "    border: none;\n",
              "    border-radius: 50%;\n",
              "    cursor: pointer;\n",
              "    display: none;\n",
              "    fill: var(--fill-color);\n",
              "    height: 32px;\n",
              "    padding: 0;\n",
              "    width: 32px;\n",
              "  }\n",
              "\n",
              "  .colab-df-quickchart:hover {\n",
              "    background-color: var(--hover-bg-color);\n",
              "    box-shadow: 0 1px 2px rgba(60, 64, 67, 0.3), 0 1px 3px 1px rgba(60, 64, 67, 0.15);\n",
              "    fill: var(--button-hover-fill-color);\n",
              "  }\n",
              "\n",
              "  .colab-df-quickchart-complete:disabled,\n",
              "  .colab-df-quickchart-complete:disabled:hover {\n",
              "    background-color: var(--disabled-bg-color);\n",
              "    fill: var(--disabled-fill-color);\n",
              "    box-shadow: none;\n",
              "  }\n",
              "\n",
              "  .colab-df-spinner {\n",
              "    border: 2px solid var(--fill-color);\n",
              "    border-color: transparent;\n",
              "    border-bottom-color: var(--fill-color);\n",
              "    animation:\n",
              "      spin 1s steps(1) infinite;\n",
              "  }\n",
              "\n",
              "  @keyframes spin {\n",
              "    0% {\n",
              "      border-color: transparent;\n",
              "      border-bottom-color: var(--fill-color);\n",
              "      border-left-color: var(--fill-color);\n",
              "    }\n",
              "    20% {\n",
              "      border-color: transparent;\n",
              "      border-left-color: var(--fill-color);\n",
              "      border-top-color: var(--fill-color);\n",
              "    }\n",
              "    30% {\n",
              "      border-color: transparent;\n",
              "      border-left-color: var(--fill-color);\n",
              "      border-top-color: var(--fill-color);\n",
              "      border-right-color: var(--fill-color);\n",
              "    }\n",
              "    40% {\n",
              "      border-color: transparent;\n",
              "      border-right-color: var(--fill-color);\n",
              "      border-top-color: var(--fill-color);\n",
              "    }\n",
              "    60% {\n",
              "      border-color: transparent;\n",
              "      border-right-color: var(--fill-color);\n",
              "    }\n",
              "    80% {\n",
              "      border-color: transparent;\n",
              "      border-right-color: var(--fill-color);\n",
              "      border-bottom-color: var(--fill-color);\n",
              "    }\n",
              "    90% {\n",
              "      border-color: transparent;\n",
              "      border-bottom-color: var(--fill-color);\n",
              "    }\n",
              "  }\n",
              "</style>\n",
              "\n",
              "  <script>\n",
              "    async function quickchart(key) {\n",
              "      const quickchartButtonEl =\n",
              "        document.querySelector('#' + key + ' button');\n",
              "      quickchartButtonEl.disabled = true;  // To prevent multiple clicks.\n",
              "      quickchartButtonEl.classList.add('colab-df-spinner');\n",
              "      try {\n",
              "        const charts = await google.colab.kernel.invokeFunction(\n",
              "            'suggestCharts', [key], {});\n",
              "      } catch (error) {\n",
              "        console.error('Error during call to suggestCharts:', error);\n",
              "      }\n",
              "      quickchartButtonEl.classList.remove('colab-df-spinner');\n",
              "      quickchartButtonEl.classList.add('colab-df-quickchart-complete');\n",
              "    }\n",
              "    (() => {\n",
              "      let quickchartButtonEl =\n",
              "        document.querySelector('#df-a95bfb2d-e333-4aa9-8b2d-ae77d3645337 button');\n",
              "      quickchartButtonEl.style.display =\n",
              "        google.colab.kernel.accessAllowed ? 'block' : 'none';\n",
              "    })();\n",
              "  </script>\n",
              "</div>\n",
              "\n",
              "    </div>\n",
              "  </div>\n"
            ],
            "text/plain": [
              "                  INSTNM          CITY STABBR         ZIP CONTROL  ADM_RATE  \\\n",
              "1500     Amherst College       Amherst     MA  01002-5000       2    0.1290   \n",
              "1549  Harvard University     Cambridge     MA        2138       2    0.0516   \n",
              "1619    Williams College  Williamstown     MA        1267       2    0.1458   \n",
              "\n",
              "      SAT_AVG  TUITIONFEE_IN  TUITIONFEE_OUT    UGDS REGION  TUITION_DIFF  \\\n",
              "1500   1497.0        54310.0         54310.0  1835.0      1           0.0   \n",
              "1549   1523.0        48949.0         48949.0  7532.0      1           0.0   \n",
              "1619   1493.0        53550.0         53550.0  2033.0      1           0.0   \n",
              "\n",
              "        APPLICANTS  \n",
              "1500   3556.201550  \n",
              "1549  36492.248062  \n",
              "1619   3485.939643  "
            ]
          },
          "execution_count": 44,
          "metadata": {},
          "output_type": "execute_result"
        }
      ],
      "source": [
        "# numbers 2, 3, 4, 5 part 2\n",
        "colleges_clean[(colleges_clean['ADM_RATE'] <= colleges_clean['ADM_RATE'].quantile(0.25))\n",
        "& (colleges_clean['TUITION_DIFF'] == 0)\n",
        "& (colleges_clean['SAT_AVG'] % 2 == 1)\n",
        "& (colleges_clean['CITY'] != 'Boston')\n",
        "& (colleges_clean['STABBR'] != 'NH')\n",
        "& (colleges_clean['APPLICANTS'] > 3000)\n",
        "               ]"
      ]
    },
    {
      "cell_type": "markdown",
      "metadata": {
        "id": "_7Mwz9BUGguN"
      },
      "source": [
        "## Answer!\n",
        "\n",
        "Ephelia is going to Williams College in Williamstown, MA!"
      ]
    }
  ],
  "metadata": {
    "colab": {
      "provenance": []
    },
    "kernelspec": {
      "display_name": "Python 3 (ipykernel)",
      "language": "python",
      "name": "python3"
    },
    "language_info": {
      "name": "raw"
    }
  },
  "nbformat": 4,
  "nbformat_minor": 0
}
