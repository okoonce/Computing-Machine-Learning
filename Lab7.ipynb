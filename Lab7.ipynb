{
  "cells": [
    {
      "cell_type": "raw",
      "metadata": {
        "vscode": {
          "languageId": "raw"
        }
      },
      "source": [
        "---\n",
        "title: Lab 7\n",
        "author: Owen Koonce\n",
        "format:\n",
        "    html:\n",
        "        toc: true\n",
        "theme: flatly\n",
        "embed-resources: true\n",
        "---"
      ]
    },
    {
      "cell_type": "markdown",
      "metadata": {
        "id": "ZaoghVmq2Bfw"
      },
      "source": [
        "## Part 1: Fitting Models"
      ]
    },
    {
      "cell_type": "code",
      "execution_count": 2,
      "metadata": {
        "id": "GYT9LVl01_mu"
      },
      "outputs": [],
      "source": [
        "import pandas as pd\n",
        "import numpy as np\n",
        "from sklearn.model_selection import train_test_split, cross_val_score\n",
        "from sklearn.metrics import roc_auc_score, roc_curve, confusion_matrix, ConfusionMatrixDisplay, auc\n",
        "from sklearn.neighbors import KNeighborsClassifier\n",
        "from sklearn.linear_model import LogisticRegression\n",
        "from sklearn.tree import DecisionTreeClassifier\n",
        "from sklearn.tree import plot_tree\n",
        "import matplotlib.pyplot as plt\n",
        "from sklearn.impute import SimpleImputer\n",
        "from sklearn.preprocessing import StandardScaler\n",
        "from sklearn.pipeline import Pipeline\n",
        "from sklearn.compose import ColumnTransformer\n",
        "from sklearn.model_selection import GridSearchCV\n",
        "\n",
        "ha = pd.read_csv(\"https://www.dropbox.com/s/aohbr6yb9ifmc8w/heart_attack.csv?dl=1\")"
      ]
    },
    {
      "cell_type": "code",
      "execution_count": 6,
      "metadata": {
        "id": "4gMD7oE3AFhB"
      },
      "outputs": [],
      "source": [
        "X = ha.drop(columns=['output'])\n",
        "y = ha['output']\n",
        "\n",
        "# Splitting into training and testing datasets\n",
        "X_train, X_test, y_train, y_test = train_test_split(X, y, test_size=0.3, random_state=42)"
      ]
    },
    {
      "cell_type": "code",
      "execution_count": 7,
      "metadata": {
        "colab": {
          "base_uri": "https://localhost:8080/"
        },
        "id": "JQbVgVkfAew9",
        "outputId": "19d2b80a-7b5e-4913-aa7a-78db21db70f3"
      },
      "outputs": [
        {
          "name": "stdout",
          "output_type": "stream",
          "text": [
            "Best KNN Parameters: {'n_neighbors': 23}\n",
            "Best KNN ROC AUC Score: 0.7712719298245615\n"
          ]
        }
      ],
      "source": [
        "# KNN Model\n",
        "knn = KNeighborsClassifier(n_neighbors=5)  # You can tune 'n_neighbors'\n",
        "knn.fit(X_train, y_train)\n",
        "\n",
        "# Predict and Evaluate\n",
        "y_pred_knn = knn.predict(X_test)\n",
        "conf_matrix_knn = confusion_matrix(y_test, y_pred_knn)\n",
        "\n",
        "# ROC AUC for KNN\n",
        "y_prob_knn = knn.predict_proba(X_test)[:, 1]\n",
        "fpr_knn, tpr_knn, _ = roc_curve(y_test, y_prob_knn)\n",
        "roc_auc_knn = roc_auc_score(y_test, y_prob_knn)\n",
        "\n",
        "\n",
        "# Define parameter grid for KNN\n",
        "knn_params = {'n_neighbors': range(1, 31)}  # Test k values from 1 to 30\n",
        "\n",
        "# Perform Grid Search\n",
        "knn_grid = GridSearchCV(KNeighborsClassifier(), knn_params, cv=5, scoring='roc_auc', n_jobs=-1)\n",
        "knn_grid.fit(X_train, y_train)\n",
        "\n",
        "# Output the best hyperparameters and score\n",
        "print(\"Best KNN Parameters:\", knn_grid.best_params_)\n",
        "print(\"Best KNN ROC AUC Score:\", knn_grid.best_score_)\n",
        "\n",
        "# Train with the best parameters and evaluate on test set\n",
        "best_knn = knn_grid.best_estimator_\n",
        "y_prob_knn_best = best_knn.predict_proba(X_test)[:, 1]\n",
        "fpr_knn_best, tpr_knn_best, _ = roc_curve(y_test, y_prob_knn_best)\n",
        "roc_auc_knn_best = auc(fpr_knn_best, tpr_knn_best)\n"
      ]
    },
    {
      "cell_type": "code",
      "execution_count": 8,
      "metadata": {
        "colab": {
          "base_uri": "https://localhost:8080/"
        },
        "id": "jjFZxhKgBsxk",
        "outputId": "c8cb7f02-33c0-4dd1-a0f8-e89d0e22eb28"
      },
      "outputs": [
        {
          "name": "stdout",
          "output_type": "stream",
          "text": [
            "Best Logistic Regression Parameters: {'C': 1, 'penalty': 'l1', 'solver': 'liblinear'}\n",
            "Best Logistic Regression ROC AUC Score: 0.897046783625731\n"
          ]
        }
      ],
      "source": [
        "# Logistic Regression Model\n",
        "logreg = LogisticRegression(max_iter=1000)\n",
        "logreg.fit(X_train, y_train)\n",
        "\n",
        "# Predict and Evaluate\n",
        "y_pred_logreg = logreg.predict(X_test)\n",
        "conf_matrix_logreg = confusion_matrix(y_test, y_pred_logreg)\n",
        "\n",
        "# ROC AUC for Logistic Regression\n",
        "y_prob_logreg = logreg.predict_proba(X_test)[:, 1]\n",
        "fpr_logreg, tpr_logreg, _ = roc_curve(y_test, y_prob_logreg)\n",
        "# The roc_auc_score function needs the true labels (y_test) and the predicted probabilities (y_prob_logreg)\n",
        "roc_auc_logreg = roc_auc_score(y_test, y_prob_logreg)\n",
        "\n",
        "# Define parameter grid for Logistic Regression\n",
        "logreg_params = {\n",
        "    'C': [0.001, 0.01, 0.1, 1, 10, 100],  # Inverse of regularization strength\n",
        "    'penalty': ['l1', 'l2'],  # L1 (lasso) or L2 (ridge) regularization\n",
        "    'solver': ['liblinear']  # Solver that supports L1 and L2 penalties\n",
        "}\n",
        "\n",
        "# Perform Grid Search\n",
        "logreg_grid = GridSearchCV(LogisticRegression(max_iter=1000), logreg_params, cv=5, scoring='roc_auc', n_jobs=-1)\n",
        "logreg_grid.fit(X_train, y_train)\n",
        "\n",
        "# Output the best hyperparameters and score\n",
        "print(\"Best Logistic Regression Parameters:\", logreg_grid.best_params_)\n",
        "print(\"Best Logistic Regression ROC AUC Score:\", logreg_grid.best_score_)\n",
        "\n",
        "# Train with the best parameters and evaluate on test set\n",
        "best_logreg = logreg_grid.best_estimator_\n",
        "y_prob_logreg_best = best_logreg.predict_proba(X_test)[:, 1]\n",
        "fpr_logreg_best, tpr_logreg_best, _ = roc_curve(y_test, y_prob_logreg_best)\n",
        "roc_auc_logreg_best = auc(fpr_logreg_best, tpr_logreg_best)"
      ]
    },
    {
      "cell_type": "code",
      "execution_count": 9,
      "metadata": {
        "colab": {
          "base_uri": "https://localhost:8080/"
        },
        "id": "2mVZ7_neCacM",
        "outputId": "1da5b761-8462-4314-e795-ff3ca729b15a"
      },
      "outputs": [
        {
          "name": "stdout",
          "output_type": "stream",
          "text": [
            "Best Decision Tree Parameters: {'max_depth': 2, 'min_samples_leaf': 4, 'min_samples_split': 2}\n",
            "Best Decision Tree ROC AUC Score: 0.8164327485380116\n"
          ]
        }
      ],
      "source": [
        "# Decision Tree Model\n",
        "tree = DecisionTreeClassifier(max_depth=3, random_state=42)  # You can tune 'max_depth'\n",
        "tree.fit(X_train, y_train)\n",
        "\n",
        "# Predict and Evaluate\n",
        "y_pred_tree = tree.predict(X_test)\n",
        "conf_matrix_tree = confusion_matrix(y_test, y_pred_tree)\n",
        "\n",
        "# ROC AUC for Decision Tree\n",
        "y_prob_tree = tree.predict_proba(X_test)[:, 1]\n",
        "fpr_tree, tpr_tree, _ = roc_curve(y_test, y_prob_tree)\n",
        "# Use roc_auc_score instead of auc to calculate the ROC AUC\n",
        "roc_auc_tree = roc_auc_score(y_test, y_prob_tree)\n",
        "\n",
        "# Define parameter grid for Decision Tree\n",
        "tree_params = {\n",
        "    'max_depth': range(1, 21),  # Test tree depths from 1 to 20\n",
        "    'min_samples_split': [2, 5, 10],  # Minimum samples required to split\n",
        "    'min_samples_leaf': [1, 2, 4]  # Minimum samples in a leaf node\n",
        "}\n",
        "\n",
        "# Perform Grid Search\n",
        "tree_grid = GridSearchCV(DecisionTreeClassifier(random_state=42), tree_params, cv=5, scoring='roc_auc', n_jobs=-1)\n",
        "tree_grid.fit(X_train, y_train)\n",
        "\n",
        "# Output the best hyperparameters and score\n",
        "print(\"Best Decision Tree Parameters:\", tree_grid.best_params_)\n",
        "print(\"Best Decision Tree ROC AUC Score:\", tree_grid.best_score_)\n",
        "\n",
        "# Train with the best parameters and evaluate on test set\n",
        "best_tree = tree_grid.best_estimator_\n",
        "y_prob_tree_best = best_tree.predict_proba(X_test)[:, 1]\n",
        "fpr_tree_best, tpr_tree_best, _ = roc_curve(y_test, y_prob_tree_best)\n",
        "roc_auc_tree_best = auc(fpr_tree_best, tpr_tree_best)\n"
      ]
    },
    {
      "cell_type": "code",
      "execution_count": 10,
      "metadata": {
        "colab": {
          "base_uri": "https://localhost:8080/"
        },
        "id": "NbVdubNhCqrA",
        "outputId": "a74c0a84-c963-4ffa-e4ed-ac458fa5a23b"
      },
      "outputs": [
        {
          "name": "stdout",
          "output_type": "stream",
          "text": [
            "Best Randomized Search Decision Tree Parameters: {'min_samples_split': 2, 'min_samples_leaf': 3, 'max_depth': 2}\n",
            "Best Randomized Search ROC AUC Score: 0.8164327485380116\n",
            "                 Model                               Best Hyperparameters  \\\n",
            "0                  KNN                                {'n_neighbors': 23}   \n",
            "1  Logistic Regression   {'C': 1, 'penalty': 'l1', 'solver': 'liblinear'}   \n",
            "2        Decision Tree  {'max_depth': 2, 'min_samples_leaf': 4, 'min_s...   \n",
            "\n",
            "   Best CV ROC AUC  Test ROC AUC  \n",
            "0         0.771272      0.608394  \n",
            "1         0.897047      0.777778  \n",
            "2         0.816433      0.708333  \n"
          ]
        }
      ],
      "source": [
        "from sklearn.model_selection import RandomizedSearchCV\n",
        "\n",
        "# Define parameter grid\n",
        "tree_params = {\n",
        "    'max_depth': range(1, 21),\n",
        "    'min_samples_split': range(2, 11),\n",
        "    'min_samples_leaf': range(1, 5)\n",
        "}\n",
        "\n",
        "# Perform Randomized Search\n",
        "tree_random = RandomizedSearchCV(DecisionTreeClassifier(random_state=42), tree_params, n_iter=100, cv=5, scoring='roc_auc', n_jobs=-1, random_state=42)\n",
        "tree_random.fit(X_train, y_train)\n",
        "\n",
        "# Output the best hyperparameters and score\n",
        "print(\"Best Randomized Search Decision Tree Parameters:\", tree_random.best_params_)\n",
        "print(\"Best Randomized Search ROC AUC Score:\", tree_random.best_score_)\n",
        "\n",
        "# Collect results\n",
        "results = {\n",
        "    'Model': ['KNN', 'Logistic Regression', 'Decision Tree'],\n",
        "    'Best Hyperparameters': [knn_grid.best_params_, logreg_grid.best_params_, tree_grid.best_params_],\n",
        "    'Best CV ROC AUC': [knn_grid.best_score_, logreg_grid.best_score_, tree_grid.best_score_],\n",
        "    'Test ROC AUC': [roc_auc_knn_best, roc_auc_logreg_best, roc_auc_tree_best]\n",
        "}\n",
        "\n",
        "# Create a summary DataFrame\n",
        "results_df = pd.DataFrame(results)\n",
        "print(results_df)\n"
      ]
    },
    {
      "cell_type": "code",
      "execution_count": 11,
      "metadata": {
        "colab": {
          "base_uri": "https://localhost:8080/",
          "height": 564
        },
        "id": "sOIwivGQKopG",
        "outputId": "02d2adea-9a5a-4d50-bad3-e1c5fe9823bf"
      },
      "outputs": [
        {
          "data": {
            "image/png": "[encoded data removed]",
            "text/plain": [
              "<Figure size 1000x600 with 1 Axes>"
            ]
          },
          "metadata": {},
          "output_type": "display_data"
        }
      ],
      "source": [
        "# Plot best ROC Curves\n",
        "plt.figure(figsize=(10, 6))\n",
        "plt.plot(fpr_knn_best, tpr_knn_best, label=f'Best KNN (AUC = {roc_auc_knn_best:.2f})')\n",
        "plt.plot(fpr_logreg_best, tpr_logreg_best, label=f'Best Logistic Regression (AUC = {roc_auc_logreg_best:.2f})')\n",
        "plt.plot(fpr_tree_best, tpr_tree_best, label=f'Best Decision Tree (AUC = {roc_auc_tree_best:.2f})')\n",
        "plt.plot([0, 1], [0, 1], 'k--', label='Random Guess')\n",
        "plt.title('ROC Curves for Best Models')\n",
        "plt.xlabel('False Positive Rate')\n",
        "plt.ylabel('True Positive Rate')\n",
        "plt.legend(loc='lower right')\n",
        "plt.grid()\n",
        "plt.show()\n"
      ]
    },
    {
      "cell_type": "markdown",
      "metadata": {
        "id": "wp0j9gLtMSIy"
      },
      "source": [
        "## Part 2: Metrics"
      ]
    },
    {
      "cell_type": "code",
      "execution_count": 12,
      "metadata": {
        "colab": {
          "base_uri": "https://localhost:8080/"
        },
        "id": "Mzn4_xu029iV",
        "outputId": "594fec0e-3954-4bd4-b5a7-b091209cec82"
      },
      "outputs": [
        {
          "name": "stdout",
          "output_type": "stream",
          "text": [
            "Metrics for KNN:\n",
            "  Recall: 0.75\n",
            "  Precision: 0.71\n",
            "  Specificity: 0.63\n",
            "------------------------------\n",
            "Metrics for Logistic Regression:\n",
            "  Recall: 0.82\n",
            "  Precision: 0.80\n",
            "  Specificity: 0.76\n",
            "------------------------------\n",
            "Metrics for Decision Tree:\n",
            "  Recall: 0.71\n",
            "  Precision: 0.71\n",
            "  Specificity: 0.68\n",
            "------------------------------\n"
          ]
        }
      ],
      "source": [
        "from sklearn.model_selection import cross_val_score, cross_validate\n",
        "from sklearn.metrics import make_scorer, recall_score, precision_score, confusion_matrix\n",
        "\n",
        "# Custom scorer for Specificity\n",
        "def specificity_score(y_true, y_pred):\n",
        "    cm = confusion_matrix(y_true, y_pred)\n",
        "    tn = cm[0, 0]\n",
        "    fp = cm[0, 1]\n",
        "    return tn / (tn + fp)\n",
        "\n",
        "specificity = make_scorer(specificity_score)\n",
        "\n",
        "# Models\n",
        "from sklearn.neighbors import KNeighborsClassifier\n",
        "from sklearn.linear_model import LogisticRegression\n",
        "from sklearn.tree import DecisionTreeClassifier\n",
        "\n",
        "models = {\n",
        "    \"KNN\": KNeighborsClassifier(n_neighbors=knn_grid.best_params_['n_neighbors']),  # Using best KNN from Grid Search\n",
        "    \"Logistic Regression\": LogisticRegression(max_iter=1000),\n",
        "    \"Decision Tree\": DecisionTreeClassifier(random_state=42)\n",
        "}\n",
        "\n",
        "# Cross-validation metrics\n",
        "scoring = {\n",
        "    'Recall': 'recall',\n",
        "    'Precision': 'precision',\n",
        "    'Specificity': specificity\n",
        "}\n",
        "\n",
        "for model_name, model in models.items():\n",
        "    print(f\"Metrics for {model_name}:\")\n",
        "    scores = cross_validate(model, X_train, y_train, scoring=scoring, cv=5)\n",
        "    print(f\"  Recall: {scores['test_Recall'].mean():.2f}\")\n",
        "    print(f\"  Precision: {scores['test_Precision'].mean():.2f}\")\n",
        "    print(f\"  Specificity: {scores['test_Specificity'].mean():.2f}\")\n",
        "    print(\"-\" * 30)\n"
      ]
    },
    {
      "cell_type": "markdown",
      "metadata": {
        "id": "C4ATxa8sO3x3"
      },
      "source": [
        "## Part 3: Discussion"
      ]
    },
    {
      "cell_type": "markdown",
      "metadata": {
        "id": "4IQTsVFGRh2J"
      },
      "source": [
        "Q1\n",
        "The hospital faces severe lawsuits if they deem a patient to be low risk, and that patient later experiences a heart attack.\n",
        "\n",
        "- important metric: high recall ensuring that all patients at risk are flagged (minimize false negatives)\n",
        "- it is recommended that the logistic model is used, as it has the highest recall\n",
        "\n",
        "Q2\n",
        "The hospital is overfull, and wants to only use bed space for patients most in need of monitoring due to heart attack risk.\n",
        "\n",
        "- important metric: high precision is preferred as it would ensure the patients who are most at risk are flagged (minimize flase positives)\n",
        "- The logistic models also has the highest precision, therefore is recommended for this case\n",
        "\n",
        "Q3\n",
        "The hospital is studying root causes of heart attacks, and would like to understand which biological measures are associated with heart attack risk.\n",
        "\n",
        "- The model that allows for the easiest interpretation of the variables should be used, as all have similar tests of recall, precision, and specificity. So, it is up to the interpreter to decide which to use based on their understanding.\n",
        "\n",
        "Q4\n",
        "The hospital is training a new batch of doctors, and they would like to compare the diagnoses of these doctors to the predictions given by the algorithm to measure the ability of new doctors to diagnose patients.\n",
        "\n",
        "- It's important that there is a balance between the metrics that the model provides. The decision tree model offers the most balance and is therefore recommended."
      ]
    },
    {
      "cell_type": "markdown",
      "metadata": {
        "id": "1SEAUC1NRzpf"
      },
      "source": [
        "## Part 4: Validation"
      ]
    },
    {
      "cell_type": "code",
      "execution_count": 22,
      "metadata": {
        "colab": {
          "base_uri": "https://localhost:8080/"
        },
        "id": "zytsdWzzGruy",
        "outputId": "e16b109f-c182-470d-9fdb-0284ad449712"
      },
      "outputs": [
        {
          "name": "stderr",
          "output_type": "stream",
          "text": [
            "/usr/local/lib/python3.10/dist-packages/numpy/ma/core.py:2820: RuntimeWarning: invalid value encountered in cast\n",
            "  _data = np.array(data, dtype=dtype, copy=copy,\n"
          ]
        },
        {
          "name": "stdout",
          "output_type": "stream",
          "text": [
            "Model: KNN\n",
            "Confusion Matrix:\n",
            "[[ 6  5]\n",
            " [ 6 13]]\n",
            "ROC AUC: 0.7010\n",
            "Precision: 0.7222\n",
            "Recall: 0.6842\n",
            "------------------------------\n",
            "Model: Logistic Regression\n",
            "Confusion Matrix:\n",
            "[[ 9  2]\n",
            " [ 3 16]]\n",
            "ROC AUC: 0.8756\n",
            "Precision: 0.8889\n",
            "Recall: 0.8421\n",
            "------------------------------\n",
            "Model: Decision Tree\n",
            "Confusion Matrix:\n",
            "[[ 8  3]\n",
            " [ 6 13]]\n",
            "ROC AUC: 0.7775\n",
            "Precision: 0.8125\n",
            "Recall: 0.6842\n",
            "------------------------------\n"
          ]
        }
      ],
      "source": [
        "from sklearn.tree import DecisionTreeClassifier\n",
        "from sklearn.metrics import confusion_matrix, roc_auc_score, precision_score, recall_score\n",
        "from sklearn.model_selection import GridSearchCV\n",
        "\n",
        "# Ensure Decision Tree is optimized using GridSearchCV\n",
        "dt_params = {\n",
        "    \"max_depth\": range(1, 11),  # Test max_depth from 1 to 10\n",
        "    \"min_samples_split\": range(2, 11),  # Test min_samples_split from 2 to 10\n",
        "}\n",
        "dt_grid = GridSearchCV(DecisionTreeClassifier(), dt_params, cv=5, scoring=\"roc_auc\", n_jobs=-1)\n",
        "dt_grid.fit(X_train, y_train)\n",
        "\n",
        "# Retrieve the best estimator for the Decision Tree\n",
        "best_decision_tree = dt_grid.best_estimator_\n",
        "\n",
        "# Fit all models on the training set\n",
        "best_knn.fit(X_train, y_train)\n",
        "best_log_reg.fit(X_train, y_train)\n",
        "best_decision_tree.fit(X_train, y_train)\n",
        "\n",
        "# Define a function to evaluate the model on the validation set\n",
        "def evaluate_model(model, X_val, y_val, model_name):\n",
        "    # Predict probabilities and labels\n",
        "    y_prob = model.predict_proba(X_val)[:, 1]\n",
        "    y_pred = model.predict(X_val)\n",
        "\n",
        "    # Calculate metrics\n",
        "    conf_matrix = confusion_matrix(y_val, y_pred)\n",
        "    roc_auc = roc_auc_score(y_val, y_prob)\n",
        "    precision = precision_score(y_val, y_pred)\n",
        "    recall = recall_score(y_val, y_pred)\n",
        "\n",
        "    # Print metrics\n",
        "    print(f\"Model: {model_name}\")\n",
        "    print(f\"Confusion Matrix:\\n{conf_matrix}\")\n",
        "    print(f\"ROC AUC: {roc_auc:.4f}\")\n",
        "    print(f\"Precision: {precision:.4f}\")\n",
        "    print(f\"Recall: {recall:.4f}\")\n",
        "    print(\"-\" * 30)\n",
        "\n",
        "# Evaluate each model on the validation set\n",
        "evaluate_model(best_knn, X_val, y_val, \"KNN\")\n",
        "evaluate_model(best_log_reg, X_val, y_val, \"Logistic Regression\")\n",
        "evaluate_model(best_decision_tree, X_val, y_val, \"Decision Tree\")\n"
      ]
    },
    {
      "cell_type": "markdown",
      "metadata": {
        "id": "lYGSZeRmO82T"
      },
      "source": [
        "The logistic model performed best on the validation test and most similarly to how it performed on the training data, making it the most reliable model to use for future use and predictions."
      ]
    },
    {
      "cell_type": "markdown",
      "metadata": {
        "id": "1OD6v9ByR2v1"
      },
      "source": [
        "## Part 5: Cohen's Kappa"
      ]
    },
    {
      "cell_type": "code",
      "execution_count": 23,
      "metadata": {
        "colab": {
          "base_uri": "https://localhost:8080/"
        },
        "id": "C39--Ti4POZm",
        "outputId": "32fab5ad-3f61-43cc-aab9-f783f068067b"
      },
      "outputs": [
        {
          "name": "stdout",
          "output_type": "stream",
          "text": [
            "Model: KNN\n",
            "Cohen's Kappa: 0.2254\n",
            "------------------------------\n",
            "Model: Logistic Regression\n",
            "Cohen's Kappa: 0.6479\n",
            "------------------------------\n",
            "Model: Decision Tree\n",
            "Cohen's Kappa: 0.3891\n",
            "------------------------------\n"
          ]
        }
      ],
      "source": [
        "from sklearn.metrics import cohen_kappa_score\n",
        "\n",
        "# Define a function to evaluate Cohen's Kappa for a model\n",
        "def evaluate_with_kappa(model, X_val, y_val, model_name):\n",
        "    # Predict labels for the validation set\n",
        "    y_pred = model.predict(X_val)\n",
        "\n",
        "    # Calculate Cohen's Kappa\n",
        "    kappa = cohen_kappa_score(y_val, y_pred)\n",
        "\n",
        "    # Print the result\n",
        "    print(f\"Model: {model_name}\")\n",
        "    print(f\"Cohen's Kappa: {kappa:.4f}\")\n",
        "    print(\"-\" * 30)\n",
        "\n",
        "# Evaluate each model on the validation set using Cohen's Kappa\n",
        "evaluate_with_kappa(best_knn, X_val, y_val, \"KNN\")\n",
        "evaluate_with_kappa(best_log_reg, X_val, y_val, \"Logistic Regression\")\n",
        "evaluate_with_kappa(best_decision_tree, X_val, y_val, \"Decision Tree\")\n"
      ]
    },
    {
      "cell_type": "markdown",
      "metadata": {
        "id": "E7FMxfWlP6BA"
      },
      "source": [
        "Cohen's Kappa is most commonly used and preferred when there are class imbalances in the data, or if interpreters want to ensure consistent classification accross different datasets. In our case specifically, Cohen's Kappa is clearly highest for the logistic model, which is consistent for the other metrics, reiterating that the logistic model is preferred."
      ]
    }
  ],
  "metadata": {
    "colab": {
      "provenance": []
    },
    "kernelspec": {
      "display_name": "Python 3",
      "name": "python3"
    },
    "language_info": {
      "name": "python"
    }
  },
  "nbformat": 4,
  "nbformat_minor": 0
}
