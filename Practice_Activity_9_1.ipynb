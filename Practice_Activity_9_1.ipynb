{
  "nbformat": 4,
  "nbformat_minor": 0,
  "metadata": {
    "colab": {
      "provenance": []
    },
    "kernelspec": {
      "name": "python3",
      "display_name": "Python 3"
    },
    "language_info": {
      "name": "python"
    }
  },
  "cells": [
    {
      "cell_type": "markdown",
      "source": [
        "## The Data\n",
        "\n",
        "At this link, you will find a dataset containing information about heart disease patients: https://www.dropbox.com/scl/fi/0vrpdnq5asmeulc4gd50y/ha_1.csv?rlkey=ciisalceotl77ffqhqe3kujzv&dl=1\n",
        "\n",
        "A description of the original dataset can be found here: https://archive.ics.uci.edu/dataset/45/heart+disease (However, this dataset has been cleaned and reduced, and the people have been given fictious names.)"
      ],
      "metadata": {
        "id": "F9uql3um69hP"
      }
    },
    {
      "cell_type": "code",
      "source": [
        "import numpy as np\n",
        "import pandas as pd\n",
        "from sklearn.pipeline import Pipeline\n",
        "from sklearn.linear_model import LogisticRegression\n",
        "from sklearn.preprocessing import StandardScaler\n",
        "from sklearn.model_selection import train_test_split\n",
        "from sklearn.discriminant_analysis import LinearDiscriminantAnalysis\n",
        "from sklearn.svm import SVC\n",
        "from sklearn.pipeline import Pipeline\n",
        "from plotnine import *\n",
        "df = pd.read_csv('https://www.dropbox.com/scl/fi/0vrpdnq5asmeulc4gd50y/ha_1.csv?rlkey=ciisalceotl77ffqhqe3kujzv&dl=1')"
      ],
      "metadata": {
        "id": "NdgquvpI_1tg"
      },
      "execution_count": 12,
      "outputs": []
    },
    {
      "cell_type": "markdown",
      "source": [
        "## 1. Logistic Regression\n",
        "\n",
        "Fit a Logistic Regression using only `age` and `chol` (cholesterol) as predictors.\n",
        "\n",
        "For a 55 year old, how high would their cholesterol need to be for the doctors to predict heart disease is present?\n",
        "\n",
        "\n",
        "How high for the doctors to estimate a 90% chance that heart disease is present?\n"
      ],
      "metadata": {
        "id": "O6wa9AzG7xHW"
      }
    },
    {
      "cell_type": "code",
      "source": [
        "X = df[['age', 'chol']]\n",
        "y = df['diagnosis']\n",
        "X_train, X_test, y_train, y_test = train_test_split(X, y, test_size=0.25, random_state=0)\n",
        "\n",
        "pipeline = Pipeline([\n",
        "    ('logreg', LogisticRegression())  # Logistic regression\n",
        "])\n",
        "\n",
        "pipeline.fit(X, y)\n",
        "pipeline.named_steps['logreg'].coef_"
      ],
      "metadata": {
        "id": "VvKguDGr-r-2",
        "outputId": "0a635f10-1eaf-411c-e74f-fea9261c8e13",
        "colab": {
          "base_uri": "https://localhost:8080/"
        }
      },
      "execution_count": 3,
      "outputs": [
        {
          "output_type": "execute_result",
          "data": {
            "text/plain": [
              "array([[0.04686331, 0.00180124]])"
            ]
          },
          "metadata": {},
          "execution_count": 3
        }
      ]
    },
    {
      "cell_type": "code",
      "source": [
        "pipeline.named_steps['logreg'].intercept_"
      ],
      "metadata": {
        "id": "iTrHZjlO_HU8",
        "outputId": "b9bda9d4-108d-4dc5-af08-16917b8f9f6d",
        "colab": {
          "base_uri": "https://localhost:8080/"
        }
      },
      "execution_count": 4,
      "outputs": [
        {
          "output_type": "execute_result",
          "data": {
            "text/plain": [
              "array([-3.24011226])"
            ]
          },
          "metadata": {},
          "execution_count": 4
        }
      ]
    },
    {
      "cell_type": "code",
      "source": [
        "(np.log(9) + 3.24011226 - .04686331 * 55) / .00180124"
      ],
      "metadata": {
        "id": "yrWL3fk-_H0Q",
        "outputId": "6d09b23d-6eca-4f11-e4c6-5a3ea21f72a4",
        "colab": {
          "base_uri": "https://localhost:8080/"
        }
      },
      "execution_count": 5,
      "outputs": [
        {
          "output_type": "execute_result",
          "data": {
            "text/plain": [
              "1587.7144563390887"
            ]
          },
          "metadata": {},
          "execution_count": 5
        }
      ]
    },
    {
      "cell_type": "markdown",
      "source": [
        "## 2. Linear Discriminant Analysis\n",
        "\n",
        "Fit an LDA model using only `age` and `chol` (cholesterol)  as predictors.\n",
        "\n",
        "For a 55 year old, how high would their cholesterol need to be for the doctors to predict heart disease is present?"
      ],
      "metadata": {
        "id": "t6Gfcspn9EYy"
      }
    },
    {
      "cell_type": "code",
      "source": [
        "X = df[['age', 'chol']]\n",
        "y = df['diagnosis']\n",
        "X_train, X_test, y_train, y_test = train_test_split(X, y, test_size=0.25, random_state=0)\n",
        "\n",
        "pipeline = Pipeline([\n",
        "    ('LinDA', LinearDiscriminantAnalysis())\n",
        "])\n",
        "\n",
        "pipeline.fit(X, y)\n",
        "pipeline.named_steps['LinDA'].coef_"
      ],
      "metadata": {
        "id": "xEE5FPAs9S29",
        "outputId": "8aae0855-047e-4011-b9fb-da93f24f4ece",
        "colab": {
          "base_uri": "https://localhost:8080/"
        }
      },
      "execution_count": 6,
      "outputs": [
        {
          "output_type": "execute_result",
          "data": {
            "text/plain": [
              "array([[0.04655744, 0.00178967]])"
            ]
          },
          "metadata": {},
          "execution_count": 6
        }
      ]
    },
    {
      "cell_type": "code",
      "source": [
        "pipeline.named_steps['LinDA'].intercept_"
      ],
      "metadata": {
        "id": "xmX0zMNp_nmK",
        "outputId": "e88bf67b-de9e-4570-fa1e-0b2cccd046fe",
        "colab": {
          "base_uri": "https://localhost:8080/"
        }
      },
      "execution_count": 7,
      "outputs": [
        {
          "output_type": "execute_result",
          "data": {
            "text/plain": [
              "array([-3.21967766])"
            ]
          },
          "metadata": {},
          "execution_count": 7
        }
      ]
    },
    {
      "cell_type": "code",
      "source": [
        "(3.21967766 - 0.04655744 * 55) / 0.00178967"
      ],
      "metadata": {
        "id": "_dmDrZoo_qBc"
      },
      "execution_count": null,
      "outputs": []
    },
    {
      "cell_type": "markdown",
      "source": [
        "## 3. Support Vector Classifier\n",
        "\n",
        "Fit an SVC model using only `age` and `chol` as predictors.  Don't forget to tune the regularization parameter.\n",
        "\n",
        "For a 55 year old, how high would their cholesterol need to be for the doctors to predict heart disease is present?"
      ],
      "metadata": {
        "id": "RdRR4Evq9THQ"
      }
    },
    {
      "cell_type": "code",
      "source": [
        "X = df[['age', 'chol']]\n",
        "y = df['diagnosis']\n",
        "X_train, X_test, y_train, y_test = train_test_split(X, y, test_size=0.25, random_state=0)\n",
        "\n",
        "pipeline = Pipeline([\n",
        "    ('SVC', SVC(kernel='linear'))  # Specify 'linear' kernel\n",
        "])\n",
        "\n",
        "pipeline.fit(X, y)\n",
        "pipeline.named_steps['SVC'].coef_"
      ],
      "metadata": {
        "id": "QM0zJ8JN9XS9",
        "outputId": "989db7de-157c-469e-f469-8035cd3075c8",
        "colab": {
          "base_uri": "https://localhost:8080/"
        }
      },
      "execution_count": 9,
      "outputs": [
        {
          "output_type": "execute_result",
          "data": {
            "text/plain": [
              "array([[0.06439772, 0.00365896]])"
            ]
          },
          "metadata": {},
          "execution_count": 9
        }
      ]
    },
    {
      "cell_type": "code",
      "source": [
        "pipeline.named_steps['SVC'].intercept_"
      ],
      "metadata": {
        "id": "bnxqMfXn_844",
        "outputId": "4080ae90-cf43-491a-a20e-6303fa9b11c9",
        "colab": {
          "base_uri": "https://localhost:8080/"
        }
      },
      "execution_count": 10,
      "outputs": [
        {
          "output_type": "execute_result",
          "data": {
            "text/plain": [
              "array([-4.68603406])"
            ]
          },
          "metadata": {},
          "execution_count": 10
        }
      ]
    },
    {
      "cell_type": "code",
      "source": [
        "(4.68603406 - 0.06439772 * 55) / 0.00365896"
      ],
      "metadata": {
        "id": "mwiXLIQAABio",
        "outputId": "9b09801d-de52-4644-c6fe-47493952850f",
        "colab": {
          "base_uri": "https://localhost:8080/"
        }
      },
      "execution_count": 11,
      "outputs": [
        {
          "output_type": "execute_result",
          "data": {
            "text/plain": [
              "312.70072916894406"
            ]
          },
          "metadata": {},
          "execution_count": 11
        }
      ]
    },
    {
      "cell_type": "markdown",
      "source": [
        "## 4. Comparing Decision Boundaries\n",
        "\n",
        "Make a scatterplot of `age` and `chol`, coloring the points by their true disease outcome.  Add a line to the plot representing the **linear separator** (aka **decision boundary**) for each of the three models above."
      ],
      "metadata": {
        "id": "badaMBzw-MsM"
      }
    },
    {
      "cell_type": "code",
      "source": [
        "X = df[['age', 'chol']]\n",
        "y = df['diagnosis']\n",
        "X_train, X_test, y_train, y_test = train_test_split(X, y, test_size=0.25, random_state=0)\n",
        "\n",
        "pipeline = Pipeline([\n",
        "    ('logreg', LogisticRegression()),\n",
        "])\n",
        "\n",
        "pipeline.fit(X_train, y_train)\n"
      ],
      "metadata": {
        "id": "vVZJwn9s-enf"
      },
      "execution_count": null,
      "outputs": []
    }
  ]
}